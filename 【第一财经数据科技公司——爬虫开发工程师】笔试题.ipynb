{
 "cells": [
  {
   "cell_type": "markdown",
   "metadata": {},
   "source": [
    "## 笔试题说明\n",
    "\n",
    "- 本套笔试题预计完成时间1小时左右。\n",
    "- 提示\n",
    "    - 直接在标注 `# 修改这部分代码完成需求` 的格子里修改代码，实现题目中描述的功能\n",
    "    - 标注 `# 这里是测试代码` 的格子仅用于测试，无需修改\n",
    "    - 解决方案应具备通用性。而不是只适用于测试代码中的个例\n",
    "    - 代码尽量简洁高效（例如：可使用匿名函数、函数式编程等，减少不必要的函数、变量或循环）"
   ]
  },
  {
   "cell_type": "markdown",
   "metadata": {},
   "source": [
    "-----\n",
    "<center><b>------这里是华丽的分界线，以下进入正式答题部分------</b></center>     \n",
    "\n",
    "-----"
   ]
  },
  {
   "cell_type": "markdown",
   "metadata": {},
   "source": [
    "### 1. 命名方式转换"
   ]
  },
  {
   "cell_type": "markdown",
   "metadata": {},
   "source": [
    "把下划线命名（也叫蛇形命名）的字符串，转化为小驼峰命名法（第一个单词小写，其余所有单词首字母大写）。    \n",
    "例如`'go_to_next_page'`，转化后改写为`'goToNextPage'`。      \n",
    "请用两种方法实现：   \n",
    "- 一种方法为正则表达式替换方法，即`re.sub()`\n",
    "- 另一种方法不限"
   ]
  },
  {
   "cell_type": "code",
   "execution_count": null,
   "metadata": {},
   "outputs": [],
   "source": [
    "# 修改这部分代码完成需求\n",
    "import re\n",
    "def convert_name_re(name):\n",
    "    # 方法一（正则）：\n",
    "    pass\n",
    "\n",
    "def convert_name(name):\n",
    "    # 方法二（其他）：\n",
    "    pass"
   ]
  },
  {
   "cell_type": "code",
   "execution_count": null,
   "metadata": {},
   "outputs": [],
   "source": [
    "# 这里是测试代码\n",
    "print(convert_name_re('go_to_next_page'))  # 'goToNextPage'\n",
    "print(convert_name_re('crawl_home_site'))  # 'crawlHomeSite'\n",
    "print(convert_name('go_to_next_page'))  # 'goToNextPage'\n",
    "print(convert_name('crawl_home_site'))  # 'crawlHomeSite'"
   ]
  },
  {
   "cell_type": "markdown",
   "metadata": {},
   "source": [
    "### 2. 装饰器"
   ]
  },
  {
   "cell_type": "markdown",
   "metadata": {},
   "source": [
    "编写一个装饰器函数`log_time`，被装饰的函数执行时打印出【函数名】与【执行时间】（时间单位为秒，要求只保留小数点后一位，见测试示例）。    \n",
    "注：装饰器函数要具备通用性，即被装饰函数允许传入位置参数与关键字参数。"
   ]
  },
  {
   "cell_type": "code",
   "execution_count": null,
   "metadata": {},
   "outputs": [],
   "source": [
    "# 修改这部分代码完成需求\n",
    "import time\n",
    "def log_time(func):\n",
    "    pass"
   ]
  },
  {
   "cell_type": "code",
   "execution_count": null,
   "metadata": {},
   "outputs": [],
   "source": [
    "# 这里是测试代码\n",
    "@log_time\n",
    "def saySomething(word):\n",
    "    time.sleep(2)\n",
    "    print(word)\n",
    "\n",
    "saySomething('hello') # ’hello‘ ’Function [saySomething] took 2.0 seconds to execute‘"
   ]
  },
  {
   "cell_type": "markdown",
   "metadata": {},
   "source": [
    "### 3. 运算符重载"
   ]
  },
  {
   "cell_type": "markdown",
   "metadata": {},
   "source": [
    "定义一个Vector类，能够实现二维向量的加法运算（类似numpy中的向量运算）。   \n",
    "例如，测试代码中针对两个二维向量的加法运算：$ (1,3) + (2,4) = (3,7)  $   \n",
    "提示：重写python内置的魔法方法。"
   ]
  },
  {
   "cell_type": "code",
   "execution_count": null,
   "metadata": {},
   "outputs": [],
   "source": [
    "# 修改这部分代码完成需求\n",
    "class Vector:\n",
    "    pass"
   ]
  },
  {
   "cell_type": "code",
   "execution_count": null,
   "metadata": {},
   "outputs": [],
   "source": [
    "# 这里是测试代码\n",
    "A = Vector(1,3)\n",
    "print(A.x, A.y) # 1, 3\n",
    "B = Vector(2,4)\n",
    "C = A + B\n",
    "print(C.x, C.y) # 3，7"
   ]
  },
  {
   "cell_type": "markdown",
   "metadata": {},
   "source": [
    "### 4. 常规爬虫"
   ]
  },
  {
   "cell_type": "markdown",
   "metadata": {},
   "source": [
    "采集“[新浪天气](http://weather.sina.com.cn/)”中的\"逐月气候\"(页面右下角)数据，包含1月-12月的每月降水量、最低气温、最高气温。   "
   ]
  },
  {
   "cell_type": "markdown",
   "metadata": {},
   "source": [
    "把采集到的降水量和气温数据保存为形如以下结构的列表中：   \n",
    "```\n",
    "climate = [\n",
    "    {'month': 1,\n",
    "     'precipitaion': 50.6,\n",
    "     'temp_low': 1.1,\n",
    "     'temp_high': 8\n",
    "    }, \n",
    "     ...\n",
    "]\n",
    "```  \n",
    "对于默认城市上海，这里只列出了一月的数据作为示例，即降水量为50.6(mm), 最低气温1.1(℃)，最高气温8(℃)"
   ]
  },
  {
   "cell_type": "code",
   "execution_count": null,
   "metadata": {},
   "outputs": [],
   "source": [
    "# 修改这部分代码完成需求\n",
    "import requests\n",
    "from lxml import etree\n",
    "def get_climate():\n",
    "    url = 'http://weather.sina.com.cn/'\n",
    "    pass"
   ]
  },
  {
   "cell_type": "code",
   "execution_count": null,
   "metadata": {},
   "outputs": [],
   "source": [
    "# 这里是测试代码\n",
    "print(get_climate())"
   ]
  },
  {
   "cell_type": "markdown",
   "metadata": {},
   "source": [
    "### 5. 验证码"
   ]
  },
  {
   "cell_type": "markdown",
   "metadata": {},
   "source": [
    "针对某个有反爬的网站详情页（[页面示例](http://cprp.nmpa.gov.cn/sfda/ShowJSYQAction.do?PID=b5cc9e51605b3e784396baf2b32d74f8)）中的汉字图片验证码（[验证码示例](http://cprp.nmpa.gov.cn/captcha.svl)），应当如何破解？   \n",
    "\n",
    "本问题为开放问题，不要求完整的实现方案，给出中间过程或解决思路均可作为加分项。能完整实现者优先安排面试。"
   ]
  },
  {
   "cell_type": "code",
   "execution_count": null,
   "metadata": {},
   "outputs": [],
   "source": [
    "# 修改这部分代码完成需求\n",
    "import requests\n",
    "from PIL import Image\n",
    "def break_captcha():\n",
    "    url = 'http://cprp.nmpa.gov.cn/captcha.svl'\n",
    "    pass"
   ]
  },
  {
   "cell_type": "markdown",
   "metadata": {},
   "source": [
    "（如果完成部分环节，这里可以描述后续解决思路）"
   ]
  },
  {
   "cell_type": "code",
   "execution_count": null,
   "metadata": {},
   "outputs": [],
   "source": [
    "# 这里是测试代码\n",
    "print(break_captcha())  # 显示各个汉字的坐标位置，如 {x: '150-106-172-', y: '106-58-60-''}"
   ]
  },
  {
   "cell_type": "markdown",
   "metadata": {},
   "source": [
    "### 6. 自由表达"
   ]
  },
  {
   "cell_type": "markdown",
   "metadata": {},
   "source": [
    "你如何看待【爬虫开发工程师】这一职位？字数不限（建议300字以内），可以参照但不限于以下几个方面。（我们希望团队成员在完成工作需求之余，也能有自己的总结和思考）    \n",
    "- 遇到过哪些挑战，或踩过哪些坑\n",
    "- 哪些方面带来成就感或挫败感\n",
    "- 最享受和最反感的工作内容或工作方式\n",
    "- 最想在哪些方面得到更多锻炼和提升\n",
    "- 中长期（3-5年）内是否考虑转换到其他职位\n",
    "- 其他相关个人观点皆可"
   ]
  },
  {
   "cell_type": "markdown",
   "metadata": {},
   "source": [
    "(这里是留给小伙伴表达自我的地方，请直接修改) "
   ]
  },
  {
   "cell_type": "markdown",
   "metadata": {},
   "source": [
    "-----\n",
    "<center><b>------这里是华丽的分界线，答题部分到此结束------</b></center>     \n",
    "\n",
    "-----"
   ]
  },
  {
   "cell_type": "markdown",
   "metadata": {},
   "source": [
    "<b>完成后保存此 `.ipynb` 文件并重命名为 `{姓名}-{职位}.ipynb` 文件（如：`雷军-爬虫开发.ipynb`），发送到HR小姐姐的邮箱 [suxiaoyu@dtcj.com](suxiaoyu@dtcj.com)</b>    \n",
    "我们将在提交后的1-3个工作日内，邀请能力匹配的申请者参加现场面试。  \n",
    "无论结果如何，希望你能在这个过程中有所收获，也希望我们能有一起合作的机会。\n",
    "<div style=\"margin-bottom: 100px\"></div>"
   ]
  }
 ],
 "metadata": {
  "kernelspec": {
   "display_name": "Python 3",
   "language": "python",
   "name": "python3"
  },
  "language_info": {
   "codemirror_mode": {
    "name": "ipython",
    "version": 3
   },
   "file_extension": ".py",
   "mimetype": "text/x-python",
   "name": "python",
   "nbconvert_exporter": "python",
   "pygments_lexer": "ipython3",
   "version": "3.6.6"
  }
 },
 "nbformat": 4,
 "nbformat_minor": 2
}
