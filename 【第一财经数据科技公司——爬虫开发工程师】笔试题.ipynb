{
 "cells": [
  {
   "cell_type": "markdown",
   "metadata": {},
   "source": [
    "# 【第一财经数据科技公司——爬虫开发工程师】笔试题"
   ]
  },
  {
   "cell_type": "markdown",
   "metadata": {},
   "source": [
    "小伙伴你好！欢迎申请【第一财经数据科技公司】的【爬虫开发工程师】职位。"
   ]
  },
  {
   "cell_type": "markdown",
   "metadata": {},
   "source": [
    "## 职位说明"
   ]
  },
  {
   "cell_type": "markdown",
   "metadata": {},
   "source": [
    "【第一财经数据科技公司】是【阿里巴巴】和【第一财经】的合资子公司，主要业务为B端数据咨询与数据新媒体。【爬虫开发工程师】这一职位属于本公司【技术创新部】中的【数据工程组】，在公司业务中发挥重要角色。   "
   ]
  },
  {
   "cell_type": "markdown",
   "metadata": {},
   "source": [
    "作为【爬虫工程师】，你的工作成果直接或间接贡献于：   \n",
    "- 数据媒体\n",
    "    - [第一财经商业数据中心CBNData](https://www.cbndata.com)   \n",
    "    - [数据媒体【DT财经】](https://www.dtcj.com/)\n",
    "    - [明星大数据](https://cbndata.com/star-rank/)\n",
    "- 商业咨询\n",
    "    - 数据建模与挖掘\n",
    "    - 客户涵盖”阿迪达斯“、”卡西欧“等知名企业"
   ]
  },
  {
   "cell_type": "markdown",
   "metadata": {},
   "source": [
    "在这里，你将与以下部门的同事一起合作：   \n",
    "- 技术创新部的工程师（大多为985/211，海归硕士，BAT等大厂背景）\n",
    "- 算法科学家、数据分析师、行业研究员\n",
    "- 数据可视化设计师、媒体编辑、HR小姐姐等"
   ]
  },
  {
   "cell_type": "markdown",
   "metadata": {},
   "source": [
    "【数据工程组】常用的技术栈和工具包含但不限于：\n",
    "- Requests, Scrapy, Scrapy-Redis, Scrapy-Splash\n",
    "- Charles, mitmproxy, Appium, Selenium, PhantomJS\n",
    "- PostgreSQL, MongoDB, Redis\n",
    "- numpy, pandas, scikit-learn\n",
    "- Docker, Kubernetes\n",
    "- 阿里云系列：OSS, 数据工厂(Dataworks), 数据湖(DataLakeAnalytics)"
   ]
  },
  {
   "cell_type": "markdown",
   "metadata": {},
   "source": [
    "## 笔试题说明"
   ]
  },
  {
   "cell_type": "markdown",
   "metadata": {},
   "source": [
    "- 本套笔试题预计完成时间1小时左右。\n",
    "- 可以借助帮助文档，搜索引擎等外部资源，只要能明白其中原理即可。\n",
    "- 基于Jupyter Notebook 的答题环境使用说明\n",
    "    - 安装Python3和[Jupyter notebook](https://jupyter.org)开发环境（如果没有安装的话）\n",
    "    - 运行选中的代码cell：`Shift+Enter`\n",
    "    - 查看内置函数的说明：`Shift+Tab`\n",
    "- 完成与提交方式   \n",
    "    - 直接在标注 `# 修改这部分代码完成需求` 的格子里修改代码即可\n",
    "    - 标注 `# 这里是测试代码` 的格子仅用于测试，无需修改\n",
    "    - 完成全部问题后直接保存 `.ipynb` 文件，发送到HR小姐姐的邮箱 [suxiaoyu@dtcj.com](suxiaoyu@dtcj.com) \n",
    "- 我们将在提交后的1-2个工作日内，邀请能力匹配的申请者参加现场面试。"
   ]
  },
  {
   "cell_type": "markdown",
   "metadata": {},
   "source": [
    "-----\n",
    "<center><b>------这里是华丽的分界线，以下进入正式答题部分------</b></center>     \n",
    "\n",
    "-----"
   ]
  },
  {
   "cell_type": "markdown",
   "metadata": {},
   "source": [
    "### 1. 命名方式转换"
   ]
  },
  {
   "cell_type": "markdown",
   "metadata": {},
   "source": [
    "把下划线命名（也叫蛇形命名）的字符串，转化为小驼峰命名法（第一个单词小写，其余所有单词首字母大写）。    \n",
    "例如`'go_to_next_page'`，转化后改写为`'goToNextPage'`。      \n",
    "请用两种方法实现：   \n",
    "- 一种方法为正则表达式替换方法，即`re.sub()`\n",
    "- 另一种方法不限"
   ]
  },
  {
   "cell_type": "code",
   "execution_count": null,
   "metadata": {},
   "outputs": [],
   "source": [
    "# 修改这部分代码完成需求\n",
    "import re\n",
    "def convert_name_re(name):\n",
    "    # 方法一（正则）：\n",
    "    pass\n",
    "\n",
    "def convert_name(name):\n",
    "    # 方法二（其他）：\n",
    "    pass"
   ]
  },
  {
   "cell_type": "code",
   "execution_count": null,
   "metadata": {},
   "outputs": [],
   "source": [
    "# 这里是测试代码\n",
    "print(convert_name_re('go_to_next_page'))  # 'goToNextPage'\n",
    "print(convert_name_re('crawl_home_site'))  # 'crawlHomeSite'\n",
    "print(convert_name('go_to_next_page'))  # 'goToNextPage'\n",
    "print(convert_name('crawl_home_site'))  # 'crawlHomeSite'"
   ]
  },
  {
   "cell_type": "markdown",
   "metadata": {},
   "source": [
    "### 2. 装饰器"
   ]
  },
  {
   "cell_type": "markdown",
   "metadata": {},
   "source": [
    "编写一个装饰器函数`log_time`，被装饰的函数执行时打印出【函数名】与【执行时间】（见测试示例）。    \n",
    "提示：被装饰函数要允许传入位置参数与关键字参数。"
   ]
  },
  {
   "cell_type": "code",
   "execution_count": null,
   "metadata": {},
   "outputs": [],
   "source": [
    "## 修改这部分代码完成需求\n",
    "import time\n",
    "def log_time(func):\n",
    "    pass"
   ]
  },
  {
   "cell_type": "code",
   "execution_count": null,
   "metadata": {},
   "outputs": [],
   "source": [
    "# 这里是测试代码\n",
    "@log_time\n",
    "def saySomething(word):\n",
    "    time.sleep(2)\n",
    "    print(word)\n",
    "\n",
    "saySomething('hello') # ’hello‘ ’Function [saySomething] took 2.0 seconds to execute‘"
   ]
  },
  {
   "cell_type": "markdown",
   "metadata": {},
   "source": [
    "### 3. 运算符重载"
   ]
  },
  {
   "cell_type": "markdown",
   "metadata": {},
   "source": [
    "定义一个Vector类，能够实现二维向量的加法运算（类似numpy中的向量运算）。   \n",
    "例如，测试代码中针对两个二维向量的加法运算：$ (1,3) + (2,4) = (3,7)  $   \n",
    "提示：重写python内置的魔法方法。"
   ]
  },
  {
   "cell_type": "code",
   "execution_count": null,
   "metadata": {},
   "outputs": [],
   "source": [
    "# 修改这部分代码完成需求\n",
    "class Vector:\n",
    "    pass"
   ]
  },
  {
   "cell_type": "code",
   "execution_count": null,
   "metadata": {},
   "outputs": [],
   "source": [
    "# 这里是测试代码\n",
    "A = Vector(1,3)\n",
    "print(A.x, A.y) # 1, 3\n",
    "B = Vector(2,4)\n",
    "C = A + B\n",
    "print(C.x, C.y) # 3，7"
   ]
  },
  {
   "cell_type": "markdown",
   "metadata": {},
   "source": [
    "### 4. 爬虫实战"
   ]
  },
  {
   "cell_type": "markdown",
   "metadata": {},
   "source": [
    "采集”[新浪天气](http://weather.sina.com.cn/)“中的\"逐月气候\"(页面右下角)数据，包含1月-12月的每月降水量、最低气温、最高气温。   "
   ]
  },
  {
   "cell_type": "markdown",
   "metadata": {},
   "source": [
    "把采集到的降水量和气温数据保存为形如以下结构的列表中：   \n",
    "```\n",
    "climate = [\n",
    "    {'month': 1,\n",
    "     'precipitaion': 50.6,\n",
    "     'temp_low': 1.1,\n",
    "     'temp_high': 8\n",
    "     }, \n",
    "     ...\n",
    "]\n",
    "```  \n",
    "（这里只列出了一月的数据作为示例，即降水量为50.6mm, 最低气温1.1摄氏度，最高气温8摄氏度）"
   ]
  },
  {
   "cell_type": "code",
   "execution_count": null,
   "metadata": {},
   "outputs": [],
   "source": [
    "# 修改这部分代码完成需求\n",
    "import requests\n",
    "from lxml import etree\n",
    "def get_climate():\n",
    "    url = 'http://weather.sina.com.cn/'\n",
    "    res = requests.request('GET', url)\n",
    "    pass"
   ]
  },
  {
   "cell_type": "code",
   "execution_count": null,
   "metadata": {},
   "outputs": [],
   "source": [
    "# 这里是测试代码\n",
    "print(get_climate())"
   ]
  },
  {
   "cell_type": "markdown",
   "metadata": {},
   "source": [
    "### 5. 自由表达"
   ]
  },
  {
   "cell_type": "markdown",
   "metadata": {},
   "source": [
    "你如何看待【爬虫开发工程师】这一职位？字数不限（建议300字以内），可以参照但不限于以下几个方面。（我们希望团队成员在完成工作需求之余，也能有自己的总结和思考）    \n",
    "- 遇到过哪些挑战，或踩过哪些坑\n",
    "- 哪些方面带来成就感或挫败感\n",
    "- 最享受和最反感的工作内容或工作方式\n",
    "- 最想在哪些方面得到更多锻炼和提升\n",
    "- 中长期（3-5年）内是否考虑转换到其他职位\n",
    "- 其他相关个人观点皆可"
   ]
  },
  {
   "cell_type": "markdown",
   "metadata": {},
   "source": [
    "(这里是留给小伙伴表达自我的地方，请直接修改) "
   ]
  },
  {
   "cell_type": "markdown",
   "metadata": {},
   "source": [
    "-----\n",
    "<center><b>------这里是华丽的分界线，答题部分到此结束------</b></center>     \n",
    "\n",
    "-----"
   ]
  },
  {
   "cell_type": "markdown",
   "metadata": {},
   "source": [
    "请直接保存 `.ipynb` 文件，发送到HR小姐姐的邮箱 [suxiaoyu@dtcj.com](suxiaoyu@dtcj.com)。   \n",
    "我们将在提交后的1-2个工作日内，邀请能力匹配的申请者参加现场面试。  \n",
    "无论结果如何，希望你能在这个过程中有所收获，也希望我们能有一起合作的机会。\n",
    "<div style=\"margin-bottom: 100px\"></div>"
   ]
  }
 ],
 "metadata": {
  "kernelspec": {
   "display_name": "Python 3",
   "language": "python",
   "name": "python3"
  },
  "language_info": {
   "codemirror_mode": {
    "name": "ipython",
    "version": 3
   },
   "file_extension": ".py",
   "mimetype": "text/x-python",
   "name": "python",
   "nbconvert_exporter": "python",
   "pygments_lexer": "ipython3",
   "version": "3.6.6"
  }
 },
 "nbformat": 4,
 "nbformat_minor": 2
}
